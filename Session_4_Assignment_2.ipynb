{
 "cells": [
  {
   "cell_type": "code",
   "execution_count": 10,
   "metadata": {},
   "outputs": [
    {
     "name": "stdout",
     "output_type": "stream",
     "text": [
      "List :  ['ss', 'dd', 'kkkkkk']\n",
      "List of lengths: [[2, 2, 6]]\n"
     ]
    }
   ],
   "source": [
    "# Session 4: Assignment 2\n",
    "# Write a Python program using function concept that maps list of words into a list of integers\n",
    "# representing the lengths of the corresponding words.\n",
    "\n",
    "def myNewFunction(lst):\n",
    "    lst1 = [[len(x) for x in lst]]\n",
    "    print(lst1)\n",
    "    \n",
    "lst = ['ss','dd', 'kkkkkk']\n",
    "print('List : ', lst)\n",
    "print('List of lengths: ', end='')\n",
    "myNewFunction(lst)"
   ]
  }
 ],
 "metadata": {
  "kernelspec": {
   "display_name": "Python 3",
   "language": "python",
   "name": "python3"
  },
  "language_info": {
   "codemirror_mode": {
    "name": "ipython",
    "version": 3
   },
   "file_extension": ".py",
   "mimetype": "text/x-python",
   "name": "python",
   "nbconvert_exporter": "python",
   "pygments_lexer": "ipython3",
   "version": "3.6.4"
  }
 },
 "nbformat": 4,
 "nbformat_minor": 2
}
