{
 "cells": [
  {
   "cell_type": "code",
   "execution_count": 10,
   "metadata": {},
   "outputs": [
    {
     "name": "stdout",
     "output_type": "stream",
     "text": [
      "List :  ['ss', 'dd', 'kkkkkk']\n",
      "List of lengths: [[2, 2, 6]]\n"
     ]
    }
   ],
   "source": [
    "# Session 4: Assignment 2\n",
    "# Problem 1\n",
    "# Write a Python program using function concept that maps list of words into a list of integers\n",
    "# representing the lengths of the corresponding words.\n",
    "\n",
    "def myNewFunction(lst):\n",
    "    lst1 = [[len(x) for x in lst]]\n",
    "    print(lst1)\n",
    "    \n",
    "lst = ['ss','dd', 'kkkkkk']\n",
    "print('List : ', lst)\n",
    "print('List of lengths: ', end='')\n",
    "myNewFunction(lst)"
   ]
  },
  {
   "cell_type": "code",
   "execution_count": 35,
   "metadata": {},
   "outputs": [
    {
     "name": "stdout",
     "output_type": "stream",
     "text": [
      "Enter a char: b\n",
      "b  is not a Vowel\n"
     ]
    }
   ],
   "source": [
    "# Problem 2\n",
    "# Write a Python function which takes a character (i.e. a string of length 1) and returns True if it is\n",
    "# a vowel, False otherwise.\n",
    "\n",
    "vowelLst = ['a','e','i','o','u']\n",
    "\n",
    "def findVowel(oneChar):\n",
    "    i = 0\n",
    "    res = False\n",
    "    while i < len(vowelLst):\n",
    "        if oneChar.upper() == vowelLst[i].upper():\n",
    "            res = True\n",
    "        i = i + 1\n",
    "    return res\n",
    "\n",
    "ch = input('Enter a char: ')\n",
    "res = findVowel(ch)\n",
    "if res == True:\n",
    "    print(ch, \" is a Vowel\")\n",
    "else:\n",
    "    print(ch, \" is not a Vowel\")"
   ]
  }
 ],
 "metadata": {
  "kernelspec": {
   "display_name": "Python 3",
   "language": "python",
   "name": "python3"
  },
  "language_info": {
   "codemirror_mode": {
    "name": "ipython",
    "version": 3
   },
   "file_extension": ".py",
   "mimetype": "text/x-python",
   "name": "python",
   "nbconvert_exporter": "python",
   "pygments_lexer": "ipython3",
   "version": "3.6.4"
  }
 },
 "nbformat": 4,
 "nbformat_minor": 2
}
